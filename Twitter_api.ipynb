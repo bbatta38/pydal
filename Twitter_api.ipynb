{
 "cells": [
  {
   "cell_type": "markdown",
   "metadata": {},
   "source": [
    "# Twitter API"
   ]
  },
  {
   "cell_type": "code",
   "execution_count": 59,
   "metadata": {
    "collapsed": false
   },
   "outputs": [],
   "source": [
    "from pandas import Series, DataFrame\n",
    "import pandas as pd\n",
    "import json\n",
    "import twitter"
   ]
  },
  {
   "cell_type": "markdown",
   "metadata": {},
   "source": [
    "---"
   ]
  },
  {
   "cell_type": "markdown",
   "metadata": {},
   "source": [
    "## 1. Get authentication"
   ]
  },
  {
   "cell_type": "code",
   "execution_count": 60,
   "metadata": {
    "collapsed": false
   },
   "outputs": [
    {
     "name": "stdout",
     "output_type": "stream",
     "text": [
      "<twitter.api.Twitter object at 0xb1064fcc>\n"
     ]
    }
   ],
   "source": [
    "CONSUMER_KEY = 'qon01lyv1glyaYmCJoqoJeEyP'\n",
    "CONSUMER_SECRET = 'gvD6mx8j6Vms5K11JERh9uyVxiBFFYOe6z3huwNtUKg7zbgLqc'\n",
    "OAUTH_TOKEN = '25092112-pu4gA3r4HQLGOJh2Hp1gfLxgLl5qpu2l4nhgGoidF'\n",
    "OAUTH_TOKEN_SECRET = 'QaS2DzROA9jDiJAbaZUAU8sHrZU4MlfWflpRFMyCctVbs'\n",
    "\n",
    "auth = twitter.oauth.OAuth(OAUTH_TOKEN, OAUTH_TOKEN_SECRET, CONSUMER_KEY, CONSUMER_SECRET)\n",
    "twitter_api = twitter.Twitter(auth=auth)\n",
    "print twitter_api"
   ]
  },
  {
   "cell_type": "markdown",
   "metadata": {},
   "source": [
    "---"
   ]
  },
  {
   "cell_type": "markdown",
   "metadata": {},
   "source": [
    "## 2. Trends in S. Korea"
   ]
  },
  {
   "cell_type": "markdown",
   "metadata": {},
   "source": [
    "##### WOE_ID = World On Earth ID from yahoo"
   ]
  },
  {
   "cell_type": "markdown",
   "metadata": {},
   "source": [
    "#### South Korea WOEID: 23424868\n",
    "http://woeid.rosselliot.co.nz/lookup"
   ]
  },
  {
   "cell_type": "code",
   "execution_count": 61,
   "metadata": {
    "collapsed": false
   },
   "outputs": [
    {
     "name": "stdout",
     "output_type": "stream",
     "text": [
      "[{u'created_at': u'2015-04-21T03:34:25Z', u'trends': [{u'url': u'http://twitter.com/search?q=%23%EB%91%90%EA%B7%BC%EA%B1%B0%EB%A0%A4', u'query': u'%23%EB%91%90%EA%B7%BC%EA%B1%B0%EB%A0%A4', u'name': u'#\\ub450\\uadfc\\uac70\\ub824', u'promoted_content': None}, {u'url': u'http://twitter.com/search?q=%EB%B0%95%EC%9A%A9%EC%84%B1', u'query': u'%EB%B0%95%EC%9A%A9%EC%84%B1', u'name': u'\\ubc15\\uc6a9\\uc131', u'promoted_content': None}, {u'url': u'http://twitter.com/search?q=%ED%81%B4%EB%A6%AC%EC%95%99', u'query': u'%ED%81%B4%EB%A6%AC%EC%95%99', u'name': u'\\ud074\\ub9ac\\uc559', u'promoted_content': None}, {u'url': u'http://twitter.com/search?q=%EC%86%8C%EC%8B%9C%ED%8D%BC', u'query': u'%EC%86%8C%EC%8B%9C%ED%8D%BC', u'name': u'\\uc18c\\uc2dc\\ud37c', u'promoted_content': None}, {u'url': u'http://twitter.com/search?q=%22%EC%B4%9D%EB%A6%AC%EC%9D%98+%EA%B3%A0%EB%87%8C%22', u'query': u'%22%EC%B4%9D%EB%A6%AC%EC%9D%98+%EA%B3%A0%EB%87%8C%22', u'name': u'\\ucd1d\\ub9ac\\uc758 \\uace0\\ub1cc', u'promoted_content': None}, {u'url': u'http://twitter.com/search?q=%22%ED%99%8D%EC%A4%80%ED%91%9C+%EA%B1%B0%EC%B7%A8%22', u'query': u'%22%ED%99%8D%EC%A4%80%ED%91%9C+%EA%B1%B0%EC%B7%A8%22', u'name': u'\\ud64d\\uc900\\ud45c \\uac70\\ucde8', u'promoted_content': None}, {u'url': u'http://twitter.com/search?q=%EC%95%84%EC%9D%B4%EB%B9%84%ED%81%B4%EB%9F%BD', u'query': u'%EC%95%84%EC%9D%B4%EB%B9%84%ED%81%B4%EB%9F%BD', u'name': u'\\uc544\\uc774\\ube44\\ud074\\ub7fd', u'promoted_content': None}, {u'url': u'http://twitter.com/search?q=%23%ED%83%90%EB%9D%BC%EC%9D%98_%EB%A7%88%EC%9D%B4%EB%84%88_%EB%8C%80%EC%A0%84', u'query': u'%23%ED%83%90%EB%9D%BC%EC%9D%98_%EB%A7%88%EC%9D%B4%EB%84%88_%EB%8C%80%EC%A0%84', u'name': u'#\\ud0d0\\ub77c\\uc758_\\ub9c8\\uc774\\ub108_\\ub300\\uc804', u'promoted_content': None}, {u'url': u'http://twitter.com/search?q=%EC%9A%94%EB%A9%94%EC%BD%94%EB%A0%88', u'query': u'%EC%9A%94%EB%A9%94%EC%BD%94%EB%A0%88', u'name': u'\\uc694\\uba54\\ucf54\\ub808', u'promoted_content': None}, {u'url': u'http://twitter.com/search?q=%EC%97%91%EC%86%8C%EB%A9%A4%EB%B2%84', u'query': u'%EC%97%91%EC%86%8C%EB%A9%A4%EB%B2%84', u'name': u'\\uc5d1\\uc18c\\uba64\\ubc84', u'promoted_content': None}], u'as_of': u'2015-04-21T03:38:19Z', u'locations': [{u'woeid': 23424868, u'name': u'Korea'}]}]\n"
     ]
    }
   ],
   "source": [
    "KR_WOE_ID = 23424868\n",
    "\n",
    "kr_trends = twitter_api.trends.place(_id=KR_WOE_ID)\n",
    "print kr_trends"
   ]
  },
  {
   "cell_type": "code",
   "execution_count": 62,
   "metadata": {
    "collapsed": false
   },
   "outputs": [
    {
     "name": "stdout",
     "output_type": "stream",
     "text": [
      "[\n",
      " {\n",
      "  \"created_at\": \"2015-04-21T03:34:25Z\", \n",
      "  \"trends\": [\n",
      "   {\n",
      "    \"url\": \"http://twitter.com/search?q=%23%EB%91%90%EA%B7%BC%EA%B1%B0%EB%A0%A4\", \n",
      "    \"query\": \"%23%EB%91%90%EA%B7%BC%EA%B1%B0%EB%A0%A4\", \n",
      "    \"name\": \"#\\ub450\\uadfc\\uac70\\ub824\", \n",
      "    \"promoted_content\": null\n",
      "   }, \n",
      "   {\n",
      "    \"url\": \"http://twitter.com/search?q=%EB%B0%95%EC%9A%A9%EC%84%B1\", \n",
      "    \"query\": \"%EB%B0%95%EC%9A%A9%EC%84%B1\", \n",
      "    \"name\": \"\\ubc15\\uc6a9\\uc131\", \n",
      "    \"promoted_content\": null\n",
      "   }, \n",
      "   {\n",
      "    \"url\": \"http://twitter.com/search?q=%ED%81%B4%EB%A6%AC%EC%95%99\", \n",
      "    \"query\": \"%ED%81%B4%EB%A6%AC%EC%95%99\", \n",
      "    \"name\": \"\\ud074\\ub9ac\\uc559\", \n",
      "    \"promoted_content\": null\n",
      "   }, \n",
      "   {\n",
      "    \"url\": \"http://twitter.com/search?q=%EC%86%8C%EC%8B%9C%ED%8D%BC\", \n",
      "    \"query\": \"%EC%86%8C%EC%8B%9C%ED%8D%BC\", \n",
      "    \"name\": \"\\uc18c\\uc2dc\\ud37c\", \n",
      "    \"promoted_content\": null\n",
      "   }, \n",
      "   {\n",
      "    \"url\": \"http://twitter.com/search?q=%22%EC%B4%9D%EB%A6%AC%EC%9D%98+%EA%B3%A0%EB%87%8C%22\", \n",
      "    \"query\": \"%22%EC%B4%9D%EB%A6%AC%EC%9D%98+%EA%B3%A0%EB%87%8C%22\", \n",
      "    \"name\": \"\\ucd1d\\ub9ac\\uc758 \\uace0\\ub1cc\", \n",
      "    \"promoted_content\": null\n",
      "   }, \n",
      "   {\n",
      "    \"url\": \"http://twitter.com/search?q=%22%ED%99%8D%EC%A4%80%ED%91%9C+%EA%B1%B0%EC%B7%A8%22\", \n",
      "    \"query\": \"%22%ED%99%8D%EC%A4%80%ED%91%9C+%EA%B1%B0%EC%B7%A8%22\", \n",
      "    \"name\": \"\\ud64d\\uc900\\ud45c \\uac70\\ucde8\", \n",
      "    \"promoted_content\": null\n",
      "   }, \n",
      "   {\n",
      "    \"url\": \"http://twitter.com/search?q=%EC%95%84%EC%9D%B4%EB%B9%84%ED%81%B4%EB%9F%BD\", \n",
      "    \"query\": \"%EC%95%84%EC%9D%B4%EB%B9%84%ED%81%B4%EB%9F%BD\", \n",
      "    \"name\": \"\\uc544\\uc774\\ube44\\ud074\\ub7fd\", \n",
      "    \"promoted_content\": null\n",
      "   }, \n",
      "   {\n",
      "    \"url\": \"http://twitter.com/search?q=%23%ED%83%90%EB%9D%BC%EC%9D%98_%EB%A7%88%EC%9D%B4%EB%84%88_%EB%8C%80%EC%A0%84\", \n",
      "    \"query\": \"%23%ED%83%90%EB%9D%BC%EC%9D%98_%EB%A7%88%EC%9D%B4%EB%84%88_%EB%8C%80%EC%A0%84\", \n",
      "    \"name\": \"#\\ud0d0\\ub77c\\uc758_\\ub9c8\\uc774\\ub108_\\ub300\\uc804\", \n",
      "    \"promoted_content\": null\n",
      "   }, \n",
      "   {\n",
      "    \"url\": \"http://twitter.com/search?q=%EC%9A%94%EB%A9%94%EC%BD%94%EB%A0%88\", \n",
      "    \"query\": \"%EC%9A%94%EB%A9%94%EC%BD%94%EB%A0%88\", \n",
      "    \"name\": \"\\uc694\\uba54\\ucf54\\ub808\", \n",
      "    \"promoted_content\": null\n",
      "   }, \n",
      "   {\n",
      "    \"url\": \"http://twitter.com/search?q=%EC%97%91%EC%86%8C%EB%A9%A4%EB%B2%84\", \n",
      "    \"query\": \"%EC%97%91%EC%86%8C%EB%A9%A4%EB%B2%84\", \n",
      "    \"name\": \"\\uc5d1\\uc18c\\uba64\\ubc84\", \n",
      "    \"promoted_content\": null\n",
      "   }\n",
      "  ], \n",
      "  \"as_of\": \"2015-04-21T03:38:19Z\", \n",
      "  \"locations\": [\n",
      "   {\n",
      "    \"woeid\": 23424868, \n",
      "    \"name\": \"Korea\"\n",
      "   }\n",
      "  ]\n",
      " }\n",
      "]\n"
     ]
    }
   ],
   "source": [
    "print json.dumps(kr_trends, indent=1)"
   ]
  },
  {
   "cell_type": "code",
   "execution_count": 71,
   "metadata": {
    "collapsed": false,
    "scrolled": true
   },
   "outputs": [],
   "source": [
    "lst = kr_trends[0]['trends']"
   ]
  },
  {
   "cell_type": "code",
   "execution_count": 77,
   "metadata": {
    "collapsed": false
   },
   "outputs": [
    {
     "data": {
      "text/plain": [
       "10"
      ]
     },
     "execution_count": 77,
     "metadata": {},
     "output_type": "execute_result"
    }
   ],
   "source": [
    "len(lst)"
   ]
  },
  {
   "cell_type": "code",
   "execution_count": 88,
   "metadata": {
    "collapsed": false
   },
   "outputs": [
    {
     "name": "stdout",
     "output_type": "stream",
     "text": [
      "%23%EB%91%90%EA%B7%BC%EA%B1%B0%EB%A0%A4\n",
      "%EB%B0%95%EC%9A%A9%EC%84%B1\n",
      "%ED%81%B4%EB%A6%AC%EC%95%99\n",
      "%EC%86%8C%EC%8B%9C%ED%8D%BC\n",
      "%22%EC%B4%9D%EB%A6%AC%EC%9D%98+%EA%B3%A0%EB%87%8C%22\n",
      "%22%ED%99%8D%EC%A4%80%ED%91%9C+%EA%B1%B0%EC%B7%A8%22\n",
      "%EC%95%84%EC%9D%B4%EB%B9%84%ED%81%B4%EB%9F%BD\n",
      "%23%ED%83%90%EB%9D%BC%EC%9D%98_%EB%A7%88%EC%9D%B4%EB%84%88_%EB%8C%80%EC%A0%84\n",
      "%EC%9A%94%EB%A9%94%EC%BD%94%EB%A0%88\n",
      "%EC%97%91%EC%86%8C%EB%A9%A4%EB%B2%84\n"
     ]
    }
   ],
   "source": [
    "for query in kr_trends[0]['trends']:\n",
    "    print  query['query']"
   ]
  },
  {
   "cell_type": "markdown",
   "metadata": {},
   "source": [
    "---"
   ]
  }
 ],
 "metadata": {
  "kernelspec": {
   "display_name": "Python 2",
   "language": "python",
   "name": "python2"
  },
  "language_info": {
   "codemirror_mode": {
    "name": "ipython",
    "version": 2
   },
   "file_extension": ".py",
   "mimetype": "text/x-python",
   "name": "python",
   "nbconvert_exporter": "python",
   "pygments_lexer": "ipython2",
   "version": "2.7.6"
  }
 },
 "nbformat": 4,
 "nbformat_minor": 0
}
